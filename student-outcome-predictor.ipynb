{
 "cells": [
  {
   "cell_type": "markdown",
   "id": "4bd7c504-2d5f-4e7f-939e-59570b8d58c6",
   "metadata": {},
   "source": [
    "# Predict Students' Dropout and Academic Success"
   ]
  },
  {
   "cell_type": "code",
   "execution_count": 1,
   "id": "c915ddf1-a137-4797-864c-f601c94b79a3",
   "metadata": {},
   "outputs": [],
   "source": [
    "from ucimlrepo import fetch_ucirepo\n",
    "import pandas as pd\n",
    "import numpy as np\n",
    "import matplotlib.pyplot as plt\n",
    "import seaborn as sns\n",
    "from sklearn.model_selection import train_test_split\n",
    "from sklearn.preprocessing import LabelEncoder\n",
    "from sklearn.ensemble import RandomForestClassifier\n",
    "from sklearn.metrics import classification_report, confusion_matrix, accuracy_score\n",
    "from imblearn.over_sampling import SMOTE"
   ]
  },
  {
   "cell_type": "code",
   "execution_count": 2,
   "id": "e39e00e0-5d8c-45ae-8d98-866edbd42b71",
   "metadata": {},
   "outputs": [],
   "source": [
    "dataset = fetch_ucirepo(id=697)\n",
    "X = dataset.data.features\n",
    "y = dataset.data.targets"
   ]
  },
  {
   "cell_type": "code",
   "execution_count": 3,
   "id": "4e0ecd9e-7af4-4086-a02f-4e03fe539123",
   "metadata": {
    "scrolled": true
   },
   "outputs": [
    {
     "name": "stdout",
     "output_type": "stream",
     "text": [
      "\n",
      "Feature data types:\n",
      "int64      29\n",
      "float64     7\n",
      "Name: count, dtype: int64\n",
      "\n",
      "Missing values in features: 0\n",
      "Missing values in target: 0\n",
      "\n",
      "First few rows of features:\n",
      "   Marital Status  Application mode  Application order  Course  \\\n",
      "0               1                17                  5     171   \n",
      "1               1                15                  1    9254   \n",
      "2               1                 1                  5    9070   \n",
      "3               1                17                  2    9773   \n",
      "4               2                39                  1    8014   \n",
      "\n",
      "   Daytime/evening attendance  Previous qualification  \\\n",
      "0                           1                       1   \n",
      "1                           1                       1   \n",
      "2                           1                       1   \n",
      "3                           1                       1   \n",
      "4                           0                       1   \n",
      "\n",
      "   Previous qualification (grade)  Nacionality  Mother's qualification  \\\n",
      "0                           122.0            1                      19   \n",
      "1                           160.0            1                       1   \n",
      "2                           122.0            1                      37   \n",
      "3                           122.0            1                      38   \n",
      "4                           100.0            1                      37   \n",
      "\n",
      "   Father's qualification  ...  \\\n",
      "0                      12  ...   \n",
      "1                       3  ...   \n",
      "2                      37  ...   \n",
      "3                      37  ...   \n",
      "4                      38  ...   \n",
      "\n",
      "   Curricular units 1st sem (without evaluations)  \\\n",
      "0                                               0   \n",
      "1                                               0   \n",
      "2                                               0   \n",
      "3                                               0   \n",
      "4                                               0   \n",
      "\n",
      "   Curricular units 2nd sem (credited)  Curricular units 2nd sem (enrolled)  \\\n",
      "0                                    0                                    0   \n",
      "1                                    0                                    6   \n",
      "2                                    0                                    6   \n",
      "3                                    0                                    6   \n",
      "4                                    0                                    6   \n",
      "\n",
      "   Curricular units 2nd sem (evaluations)  \\\n",
      "0                                       0   \n",
      "1                                       6   \n",
      "2                                       0   \n",
      "3                                      10   \n",
      "4                                       6   \n",
      "\n",
      "   Curricular units 2nd sem (approved)  Curricular units 2nd sem (grade)  \\\n",
      "0                                    0                          0.000000   \n",
      "1                                    6                         13.666667   \n",
      "2                                    0                          0.000000   \n",
      "3                                    5                         12.400000   \n",
      "4                                    6                         13.000000   \n",
      "\n",
      "   Curricular units 2nd sem (without evaluations)  Unemployment rate  \\\n",
      "0                                               0               10.8   \n",
      "1                                               0               13.9   \n",
      "2                                               0               10.8   \n",
      "3                                               0                9.4   \n",
      "4                                               0               13.9   \n",
      "\n",
      "   Inflation rate   GDP  \n",
      "0             1.4  1.74  \n",
      "1            -0.3  0.79  \n",
      "2             1.4  1.74  \n",
      "3            -0.8 -3.12  \n",
      "4            -0.3  0.79  \n",
      "\n",
      "[5 rows x 36 columns]\n",
      "\n",
      "First few rows of target:\n",
      "     Target\n",
      "0   Dropout\n",
      "1  Graduate\n",
      "2   Dropout\n",
      "3  Graduate\n",
      "4  Graduate\n"
     ]
    }
   ],
   "source": [
    "#Exploring dataset \n",
    "\n",
    "print(f\"\\nFeature data types:\")\n",
    "print(X.dtypes.value_counts())\n",
    "\n",
    "print(f\"\\nMissing values in features: {X.isnull().sum().sum()}\")\n",
    "print(f\"Missing values in target: {y.isnull().sum().sum()}\")\n",
    "\n",
    "print(\"\\nFirst few rows of features:\")\n",
    "print(X.head())\n",
    "\n",
    "print(\"\\nFirst few rows of target:\")\n",
    "print(y.head())\n"
   ]
  },
  {
   "cell_type": "code",
   "execution_count": 4,
   "id": "85a8366b-a724-43d9-b4a5-fd69d47d70f6",
   "metadata": {},
   "outputs": [
    {
     "name": "stdout",
     "output_type": "stream",
     "text": [
      "Original classes: ['Dropout' 'Enrolled' 'Graduate']\n",
      "\n",
      "Encoding mapping:\n",
      "  Dropout → 0\n",
      "  Enrolled → 1\n",
      "  Graduate → 2\n"
     ]
    }
   ],
   "source": [
    "#Encoding Target Variable\n",
    "\n",
    "le = LabelEncoder()\n",
    "y_encoded = le.fit_transform(y.iloc[:, 0])\n",
    "\n",
    "print(f\"Original classes: {le.classes_}\")\n",
    "print(f\"\\nEncoding mapping:\")\n",
    "for i, class_name in enumerate(le.classes_):\n",
    "    print(f\"  {class_name} → {i}\")\n"
   ]
  },
  {
   "cell_type": "code",
   "execution_count": 5,
   "id": "8d770b57-0ec3-4220-b855-4873f3e5735c",
   "metadata": {},
   "outputs": [
    {
     "name": "stdout",
     "output_type": "stream",
     "text": [
      "Training set: 3539 samples\n",
      "Test set: 885 samples\n",
      "\n",
      "Class distribution in training set:\n",
      "  Dropout: 1137 (32.1%)\n",
      "  Enrolled: 635 (17.9%)\n",
      "  Graduate: 1767 (49.9%)\n"
     ]
    }
   ],
   "source": [
    "# Split the dataset\n",
    "\n",
    "X_train, X_test, y_train, y_test = train_test_split(\n",
    "    X, y_encoded, \n",
    "    test_size=0.2, \n",
    "    random_state=42, \n",
    "    stratify=y_encoded\n",
    ")\n",
    "\n",
    "print(f\"Training set: {X_train.shape[0]} samples\")\n",
    "print(f\"Test set: {X_test.shape[0]} samples\")\n",
    "\n",
    "print(f\"\\nClass distribution in training set:\")\n",
    "for i, class_name in enumerate(le.classes_):\n",
    "    count = (y_train == i).sum()\n",
    "    pct = count / len(y_train) * 100\n",
    "    print(f\"  {class_name}: {count} ({pct:.1f}%)\")\n"
   ]
  },
  {
   "cell_type": "code",
   "execution_count": 6,
   "id": "8bfe49d0-4187-45ef-b274-9e98f5b9cadb",
   "metadata": {},
   "outputs": [
    {
     "name": "stdout",
     "output_type": "stream",
     "text": [
      "\n",
      "Baseline Accuracy: 0.7672\n",
      "\n",
      "Classification Report (Baseline):\n",
      "              precision    recall  f1-score   support\n",
      "\n",
      "     Dropout       0.81      0.75      0.78       284\n",
      "    Enrolled       0.57      0.37      0.45       159\n",
      "    Graduate       0.78      0.92      0.85       442\n",
      "\n",
      "    accuracy                           0.77       885\n",
      "   macro avg       0.72      0.68      0.69       885\n",
      "weighted avg       0.75      0.77      0.75       885\n",
      "\n"
     ]
    }
   ],
   "source": [
    "# Train Model (Baseline)\n",
    "model_baseline = RandomForestClassifier(n_estimators=100, random_state=42)\n",
    "model_baseline.fit(X_train, y_train)\n",
    "\n",
    "y_pred_baseline = model_baseline.predict(X_test)\n",
    "accuracy_baseline = accuracy_score(y_test, y_pred_baseline)\n",
    "\n",
    "print(f\"\\nBaseline Accuracy: {accuracy_baseline:.4f}\")\n",
    "print(\"\\nClassification Report (Baseline):\")\n",
    "print(classification_report(y_test, y_pred_baseline, target_names=le.classes_))\n"
   ]
  }
 ],
 "metadata": {
  "kernelspec": {
   "display_name": "Python 3 (ipykernel)",
   "language": "python",
   "name": "python3"
  },
  "language_info": {
   "codemirror_mode": {
    "name": "ipython",
    "version": 3
   },
   "file_extension": ".py",
   "mimetype": "text/x-python",
   "name": "python",
   "nbconvert_exporter": "python",
   "pygments_lexer": "ipython3",
   "version": "3.13.1"
  }
 },
 "nbformat": 4,
 "nbformat_minor": 5
}
